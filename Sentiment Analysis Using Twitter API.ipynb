{
 "cells": [
  {
   "cell_type": "markdown",
   "metadata": {},
   "source": [
    "## Introduction"
   ]
  },
  {
   "cell_type": "markdown",
   "metadata": {},
   "source": [
    "**Sentiment Analysis** is the process of ‘computationally’ determining whether a piece of writing is positive, negative or neutral. It’s also known as opinion mining, deriving the opinion or attitude of a speaker. \n",
    "\n",
    "**Why sentiment analysis?**\n",
    "\n",
    "**Business:** In marketing field companies use it to develop their strategies, to understand customers’ feelings towards products or brand, how people respond to their campaigns or product launches and why consumers don’t buy some\n",
    "products.\n",
    "\n",
    "**Politics:** In political field, it is used to keep track of political view, to detect consistency and inconsistency between statements and actions at the government level. It can be used to predict election results as well!\n",
    "\n",
    "**Public Actions:** Sentiment analysis also is used to monitor and analyse social phenomena, for the spotting of potentially dangerous situations and determining the general mood of the blogosphere.\n",
    "\n"
   ]
  },
  {
   "cell_type": "markdown",
   "metadata": {},
   "source": [
    "## Installation"
   ]
  },
  {
   "cell_type": "markdown",
   "metadata": {},
   "source": [
    "**Tweepy:** tweepy is the python client for the official **Twitter API.**\n",
    "\n",
    "Install it using following pip command:\n",
    "\n",
    "                            **pip install tweepy**\n",
    "                            \n",
    "**TextBlob:** textblob is the python library for processing textual data.\n",
    "\n",
    "Install it using following pip command:\n",
    "\n",
    "                            **pip install textblob**\n",
    "                            \n",
    "Also, we need to install some **NLTK corpora** using following command:\n",
    "\n",
    "                        **python -m textblob.download_corpora**\n",
    "                        \n",
    "(Corpora is nothing but a large and structured set of texts.)"
   ]
  },
  {
   "cell_type": "markdown",
   "metadata": {},
   "source": [
    "## Importing required libraries"
   ]
  },
  {
   "cell_type": "code",
   "execution_count": 1,
   "metadata": {},
   "outputs": [],
   "source": [
    "import re\n",
    "import tweepy\n",
    "from tweepy import OAuthHandler\n",
    "from textblob import TextBlob"
   ]
  },
  {
   "cell_type": "markdown",
   "metadata": {},
   "source": [
    "## Defining the Sentiment Analysis Function and Class"
   ]
  },
  {
   "cell_type": "code",
   "execution_count": 2,
   "metadata": {},
   "outputs": [],
   "source": [
    "class TwitterClient(object):\n",
    "    \n",
    "    def __init__(self):\n",
    "    \n",
    "        #  Twitter API keys and tokens\n",
    "        consumer_key = 'XXXXXXXXXXXXXXXXXXXXXXXXX'\n",
    "        consumer_secret = 'XXXXXXXXXXXXXXXXXXXXXXXXX'\n",
    "        access_token = 'XXXXXXXXXXXXXXXXXXXXXXXXX'\n",
    "        access_token_secret = 'XXXXXXXXXXXXXXXXXXXXXXXXX'\n",
    "  \n",
    "        # Attempt authentication\n",
    "        try:\n",
    "            # create OAuthHandler object\n",
    "            self.auth = OAuthHandler(consumer_key, consumer_secret)\n",
    "            # set access token and secret\n",
    "            self.auth.set_access_token(access_token, access_token_secret)\n",
    "            # create tweepy API object to fetch tweets\n",
    "            self.api = tweepy.API(self.auth)\n",
    "        except:\n",
    "            print(\"Error: Authentication Failed\")\n",
    "  \n",
    "    def clean_tweet(self, tweet):\n",
    "        \n",
    "        # Removing the special characters in tweets using Regex statements\n",
    "        return ' '.join(re.sub(\"(@[A-Za-z0-9]+)|([^0-9A-Za-z \\t])|(\\w+:\\/\\/\\S+)\", \" \", tweet).split())\n",
    "                               \n",
    "    def get_tweet_sentiment(self, tweet):\n",
    "        '''\n",
    "        Utility function to classify sentiment of passed tweet\n",
    "        using textblob's sentiment method\n",
    "        '''\n",
    "        # create TextBlob object of passed tweet text\n",
    "        analysis = TextBlob(self.clean_tweet(tweet))\n",
    "        # set sentiment\n",
    "        if analysis.sentiment.polarity > 0:\n",
    "            return 'positive'\n",
    "        elif analysis.sentiment.polarity == 0:\n",
    "            return 'neutral'\n",
    "        else:\n",
    "            return 'negative'                           \n",
    "  \n",
    "      \n",
    "    def get_tweets(self, query, count = 10):\n",
    "       \n",
    "        # empty list to store parsed tweets\n",
    "        tweets = []\n",
    "  \n",
    "        try:\n",
    "            # Call twitter api to fetch tweets\n",
    "            fetched_tweets = self.api.search(q = query, count = count)\n",
    "  \n",
    "            # parsing tweets one by one\n",
    "            for tweet in fetched_tweets:\n",
    "                # empty dictionary to store required params of a tweet\n",
    "                parsed_tweet = {}\n",
    "  \n",
    "                # saving text of tweet\n",
    "                parsed_tweet['text'] = tweet.text\n",
    "                # saving sentiment of tweet\n",
    "                parsed_tweet['sentiment'] = self.get_tweet_sentiment(tweet.text)\n",
    "  \n",
    "                # appending parsed tweet to tweets list\n",
    "                if tweet.retweet_count > 0:\n",
    "                    # if tweet has retweets, ensure that it is appended only once\n",
    "                    if parsed_tweet not in tweets:\n",
    "                        tweets.append(parsed_tweet)\n",
    "                else:\n",
    "                    tweets.append(parsed_tweet)\n",
    "  \n",
    "            # return parsed tweets\n",
    "            return tweets\n",
    "  \n",
    "        except tweepy.TweepError as e:\n",
    "            # print error (if any)\n",
    "            print(\"Error : \" + str(e))\n",
    "  \n"
   ]
  },
  {
   "cell_type": "markdown",
   "metadata": {},
   "source": [
    "## Passing Donald Trump's Tweets in the Sentiment Analysis Function"
   ]
  },
  {
   "cell_type": "code",
   "execution_count": 3,
   "metadata": {},
   "outputs": [
    {
     "name": "stdout",
     "output_type": "stream",
     "text": [
      "Positive tweets percentage: 32.8125 %\n",
      "Negative tweets percentage: 10.9375 %\n",
      "Neutral tweets percentage: 56.25 %         \n",
      "\n",
      "\n",
      "Positive tweets:\n",
      "RT @BettyBowers: GOP Version of Patriotism:\n",
      "\n",
      "“I trust Russia more than American intelligence.”\n",
      "\n",
      "—Donald Trump\n",
      "\n",
      "“We compliment the Russian P…\n",
      "RT @KatieJohnson214: Clinton's\n",
      "\"Hillary Clinton was right about everything she said about Donald Trump\" https://t.co/Z0EldUPU39\n",
      "RT @cenkuygur: “With Donald Trump out of the White House — not a joke— you will see an epiphany occur among many of my Republican friends,\"…\n",
      "The Political, Legal, and Moral Minefield That Donald Trump Left for Merrick Garland https://t.co/0pJOCamRNo via @NewYorker\n",
      "RT @resist4mykids: @SenTedCruz Donald Trump is responsible for an American insurrection and Ted Cruz helped.\n",
      "\n",
      "Ted Cruz need to go.\n",
      "RT @BoutrousTed: Donald Trump’s Helsinki summit with Vladimir Putin was the most humiliating and embarrassing day any President of the Unit…\n",
      "RT @TristanSnell: Could today be Donald Trump’s last birthday as a free man?\n",
      "RT @TheUSASingers: Joe Biden speaks with about a trillion times more eloquence, strength, knowledge, depth, wisdom, experience, compassion,…\n",
      "RT @hiattf: The nation cannot forget Donald Trump’s betrayal of his oath. A new trove of preposterous emails is a reminder. A WaPo editoria…\n",
      "@HouseGOP Fresh dementia concerns after Donald Trump drinks glass of water with two hands\n",
      "https://t.co/ChjMariPyp\n",
      "\n",
      "\n",
      "Negative tweets:\n",
      "RT @Thom_Hartmann: “Cohen recalled Trump saying that if it comes down to Don Jr. or Ivanka going to prison that it should be Don Jr. becaus…\n",
      "RT @TheRealHoarse: Nina Turner actively campaigned against Hillary Clinton when the alternative was Donald Trump.\n",
      "\n",
      "Nina Turner isn’t a Demo…\n",
      "RT @duty2warn: A few notes for clarity ... Donald Trump is a criminal, gangster, and fraud. Mike Flynn is a traitor. Mike Pence is pathetic…\n",
      "Which is sort of an insane asylum for incredibly wealthy sycophants who want to sit there and pet the fat ass of Do… https://t.co/YzVGd3CjhK\n",
      "RT @BombshellDAILY: TRUMP STAFFER GUILTY OF \n",
      "TEN COUNTS OF ELECTION FRAUD IN 2012\n",
      "Brandon Hall was sentenced to five years in Federal priso…\n",
      "RT @RussOnPolitics: @kylegriffin1 The walls are at last closing in on Donald Trump. He’s been on borrowed time for the past 40 years and it…\n",
      "Donald Trump May Have a New Reason to Be Angry With Mike Pence https://t.co/ziZ3obNDw1 via @Yahoo \n",
      "\n",
      "WHO GIVES A RATS ASS\n"
     ]
    }
   ],
   "source": [
    "def main():\n",
    "    # creating object of TwitterClient Class\n",
    "    api = TwitterClient()\n",
    "    # calling function to get tweets\n",
    "    tweets = api.get_tweets(query = 'Donald Trump', count = 200)\n",
    "  \n",
    "    # picking positive tweets from tweets\n",
    "    ptweets = [tweet for tweet in tweets if tweet['sentiment'] == 'positive']\n",
    "    # percentage of positive tweets\n",
    "    print(\"Positive tweets percentage: {} %\".format(100*len(ptweets)/len(tweets)))\n",
    "    # picking negative tweets from tweets\n",
    "    ntweets = [tweet for tweet in tweets if tweet['sentiment'] == 'negative']\n",
    "    # percentage of negative tweets\n",
    "    print(\"Negative tweets percentage: {} %\".format(100*len(ntweets)/len(tweets)))\n",
    "    # percentage of neutral tweets\n",
    "    print(\"Neutral tweets percentage: {} % \\\n",
    "        \".format(100*(len(tweets) -(len( ntweets )+len( ptweets)))/len(tweets)))\n",
    "  \n",
    "    # printing first 5 positive tweets\n",
    "    print(\"\\n\\nPositive tweets:\")\n",
    "    for tweet in ptweets[:10]:\n",
    "        print(tweet['text'])\n",
    "  \n",
    "    # printing first 5 negative tweets\n",
    "    print(\"\\n\\nNegative tweets:\")\n",
    "    for tweet in ntweets[:10]:\n",
    "        print(tweet['text'])\n",
    "  \n",
    "if __name__ == \"__main__\":\n",
    "    # calling main function\n",
    "    main()"
   ]
  },
  {
   "cell_type": "markdown",
   "metadata": {},
   "source": [
    "## Conclusion"
   ]
  },
  {
   "cell_type": "markdown",
   "metadata": {},
   "source": [
    "3 major steps are there in the program:\n",
    "\n",
    "     -> Authorize twitter API client.\n",
    "     -> Make a GET request to Twitter API to fetch tweets for a particular query.\n",
    "     -> Parse the tweets. Classify each tweet as positive, negative or neutral."
   ]
  },
  {
   "cell_type": "markdown",
   "metadata": {},
   "source": [
    "First of all, a **TwitterClient** class is created. This class contains all the methods to interact with Twitter API and parsing tweets.  __init__ function to handle the authentication of API client."
   ]
  },
  {
   "cell_type": "markdown",
   "metadata": {},
   "source": [
    "In **get_tweets** function, we use:\n",
    "                       \n",
    "               **fetched_tweets = self.api.search(q = query, count = count)**\n",
    "               \n",
    "to call the API to fetch tweets.               "
   ]
  },
  {
   "cell_type": "markdown",
   "metadata": {},
   "source": [
    "In **get_tweet_sentiment** function, we use **textblob** module as follows: \n",
    "\n",
    "                     **analysis = TextBlob(self.clean_tweet(tweet))**"
   ]
  },
  {
   "cell_type": "markdown",
   "metadata": {},
   "source": [
    "**TextBlob** is actually a high level library built over top of NLTK library. First we call **clean_tweet** method to remove links, special characters, etc. from the tweet using some simple regex statements.\n",
    "\n",
    "Then, as we pass tweet to create a **TextBlob** object, the library does preprocessing tasks on the tweets which include tokenisation, i.e., splitting words from a body of text, removing stopwords from the text, i.e., words such as I, am, the and other pronouns which are irrelevant to text analysis and then passing the tokens into a sentiment classifier, which classifies the tweet as positive, negative or neutral by assigning it a polarities : 1, -1, 0 respectively.  "
   ]
  }
 ],
 "metadata": {
  "kernelspec": {
   "display_name": "Python 3",
   "language": "python",
   "name": "python3"
  },
  "language_info": {
   "codemirror_mode": {
    "name": "ipython",
    "version": 3
   },
   "file_extension": ".py",
   "mimetype": "text/x-python",
   "name": "python",
   "nbconvert_exporter": "python",
   "pygments_lexer": "ipython3",
   "version": "3.8.1"
  }
 },
 "nbformat": 4,
 "nbformat_minor": 4
}
